{
 "cells": [
  {
   "cell_type": "markdown",
   "metadata": {},
   "source": [
    "# MACD Analysis and Buy/Sell Signals\n",
    "\n",
    "\n",
    "> MACD, short for moving average convergence/divergence, is a trading indicator used in technical analysis of stock prices. \n",
    "Source: https://en.wikipedia.org/wiki/MACD\n",
    "\n",
    "We analyse stock data using MACD and generate buy and sell signals."
   ]
  },
  {
   "cell_type": "markdown",
   "metadata": {},
   "source": [
    "#### Some installs and imports"
   ]
  },
  {
   "cell_type": "code",
   "execution_count": 1,
   "metadata": {},
   "outputs": [
    {
     "name": "stdout",
     "output_type": "stream",
     "text": [
      "Requirement already satisfied: stockstats in /usr/local/lib/python3.5/dist-packages (0.2.0)\n",
      "Requirement already satisfied: numpy>=1.9.2 in /usr/local/lib/python3.5/dist-packages (from stockstats) (1.14.5)\n",
      "Requirement already satisfied: int-date>=0.1.7 in /usr/local/lib/python3.5/dist-packages (from stockstats) (0.1.8)\n",
      "Requirement already satisfied: pandas>=0.18.1 in /usr/local/lib/python3.5/dist-packages (from stockstats) (0.23.4)\n",
      "Requirement already satisfied: six>=1.9.0 in /usr/local/lib/python3.5/dist-packages (from int-date>=0.1.7->stockstats) (1.11.0)\n",
      "Requirement already satisfied: python-dateutil>=2.4.2 in /usr/local/lib/python3.5/dist-packages (from int-date>=0.1.7->stockstats) (2.7.3)\n",
      "Requirement already satisfied: pytz>=2011k in /usr/local/lib/python3.5/dist-packages (from pandas>=0.18.1->stockstats) (2018.5)\n",
      "Requirement already satisfied: seaborn in /usr/local/lib/python3.5/dist-packages (0.9.0)\n",
      "Requirement already satisfied: matplotlib>=1.4.3 in /usr/local/lib/python3.5/dist-packages (from seaborn) (2.2.2)\n",
      "Requirement already satisfied: pandas>=0.15.2 in /usr/local/lib/python3.5/dist-packages (from seaborn) (0.23.4)\n",
      "Requirement already satisfied: scipy>=0.14.0 in /usr/local/lib/python3.5/dist-packages (from seaborn) (1.1.0)\n",
      "Requirement already satisfied: numpy>=1.9.3 in /usr/local/lib/python3.5/dist-packages (from seaborn) (1.14.5)\n",
      "Requirement already satisfied: cycler>=0.10 in /usr/local/lib/python3.5/dist-packages (from matplotlib>=1.4.3->seaborn) (0.10.0)\n",
      "Requirement already satisfied: kiwisolver>=1.0.1 in /usr/local/lib/python3.5/dist-packages (from matplotlib>=1.4.3->seaborn) (1.0.1)\n",
      "Requirement already satisfied: six>=1.10 in /usr/local/lib/python3.5/dist-packages (from matplotlib>=1.4.3->seaborn) (1.11.0)\n",
      "Requirement already satisfied: pyparsing!=2.0.4,!=2.1.2,!=2.1.6,>=2.0.1 in /usr/local/lib/python3.5/dist-packages (from matplotlib>=1.4.3->seaborn) (2.2.0)\n",
      "Requirement already satisfied: pytz in /usr/local/lib/python3.5/dist-packages (from matplotlib>=1.4.3->seaborn) (2018.5)\n",
      "Requirement already satisfied: python-dateutil>=2.1 in /usr/local/lib/python3.5/dist-packages (from matplotlib>=1.4.3->seaborn) (2.7.3)\n",
      "Requirement already satisfied: setuptools in /usr/local/lib/python3.5/dist-packages (from kiwisolver>=1.0.1->matplotlib>=1.4.3->seaborn) (39.1.0)\n"
     ]
    }
   ],
   "source": [
    "# Install a pip package in the current Jupyter kernel\n",
    "import sys\n",
    "!{sys.executable} -m pip install stockstats\n",
    "!{sys.executable} -m pip install seaborn"
   ]
  },
  {
   "cell_type": "code",
   "execution_count": 2,
   "metadata": {},
   "outputs": [],
   "source": [
    "# imports\n",
    "import pandas as pd\n",
    "import numpy as np\n",
    "from stockstats import StockDataFrame as Sdf\n",
    "\n",
    "from matplotlib import pyplot as plt\n",
    "%matplotlib inline\n",
    "import seaborn as sns"
   ]
  },
  {
   "cell_type": "markdown",
   "metadata": {},
   "source": [
    "## MACD Parametrization\n",
    "\n",
    "Below there is an example of MACD calculation:\n",
    "\n",
    "    The MACD line (macd): 12-day EMA - 26-day EMA\n",
    "    Signal Line (macds): 9-day EMA of MACD Line\n",
    "\n",
    "The parameter are (fast, slow, signal) = (12, 26, 9). \n",
    "We generalize the example above and compute the parameterize MACD as follows:\n",
    "\n",
    "\\begin{align}\n",
    "MACD^{fast, slow}(t) & = EMA^{fast}(close, t) - EMA^{slow}(close, t) \\\\\n",
    "Signal^{sig}(t) & = EMA^{sig}(MACD^{fast, slow}(t), t) \\\\\n",
    "\\end{align}"
   ]
  },
  {
   "cell_type": "code",
   "execution_count": 3,
   "metadata": {},
   "outputs": [],
   "source": [
    "#\n",
    "# original from stockstats source\n",
    "# modified to paramterize it\n",
    "#\n",
    "\n",
    "def macd_params(df, fast_window=12, slow_window=26, signal_window=9):\n",
    "    \"\"\" Moving Average Convergence Divergence\n",
    "\n",
    "    This function will initialize all following columns.\n",
    "\n",
    "    MACD Line (macd): (fast_window EMA - slow_window EMA)\n",
    "    Signal Line (macds): signal_window EMA of MACD Line\n",
    "    MACD Histogram (macdh): MACD Line - Signal Line\n",
    "    \n",
    "    :param df: data\n",
    "    :param fast_window: window length of the fast EMA \n",
    "    :param slow_window: window length of the slow EMA\n",
    "    :param signal_window: window length of the signal EMA\n",
    "    \n",
    "    :return: None\n",
    "    \"\"\"\n",
    "    \n",
    "    # parameter check\n",
    "    if (fast_window > slow_window) or (signal_window > fast_window):\n",
    "        # error\n",
    "        raise ValueError('Parameter values do not fit.')\n",
    "    \n",
    "    fast = df['close_' + str(fast_window) + '_ema']\n",
    "    slow = df['close_' + str(slow_window) + '_ema']\n",
    "    df['macd'] = fast - slow\n",
    "    df['macds'] = df['macd_' + str(signal_window) + '_ema']\n",
    "    df['macdh'] = (df['macd'] - df['macds'])\n",
    "\n",
    "    del df['macd_' + str(signal_window) + '_ema']\n",
    "    del fast\n",
    "    del slow\n",
    "    \n",
    "    "
   ]
  },
  {
   "cell_type": "markdown",
   "metadata": {},
   "source": [
    "## Data Import\n",
    "\n",
    "The data download is from ariva.de. The import adjust some formatting in order to work with python's `stockstats` package. \n",
    "\n",
    "* delimiter is ';'\n",
    "* header line uses english idenifiers\n",
    "* decimal separator is specified as ','\n",
    "* thousands separator is '.'"
   ]
  },
  {
   "cell_type": "code",
   "execution_count": 4,
   "metadata": {},
   "outputs": [],
   "source": [
    "# Data path\n",
    "data_path = '../data/external/data.csv'\n",
    "\n",
    "# import data\n",
    "colnames = ['date', 'open', 'high', 'low', 'close', 'shares', 'volume']\n",
    "data = pd.read_csv(data_path, delimiter=';', header=0, names=colnames, decimal=',', thousands='.')\n",
    "stock  = Sdf.retype(data)\n",
    "\n",
    "# sort by date ascending \n",
    "stock.sort_index(ascending=True, inplace=True)\n"
   ]
  },
  {
   "cell_type": "markdown",
   "metadata": {},
   "source": [
    "## Compute MACD and Visualize"
   ]
  },
  {
   "cell_type": "code",
   "execution_count": 5,
   "metadata": {},
   "outputs": [],
   "source": [
    "# compute macd with standard param (12 / 26 / 9)\n",
    "macd_params(stock)\n",
    "\n",
    "macd = stock['macd']\n",
    "macds = stock['macds']"
   ]
  },
  {
   "cell_type": "code",
   "execution_count": 6,
   "metadata": {},
   "outputs": [
    {
     "data": {
      "text/html": [
       "<div>\n",
       "<style scoped>\n",
       "    .dataframe tbody tr th:only-of-type {\n",
       "        vertical-align: middle;\n",
       "    }\n",
       "\n",
       "    .dataframe tbody tr th {\n",
       "        vertical-align: top;\n",
       "    }\n",
       "\n",
       "    .dataframe thead th {\n",
       "        text-align: right;\n",
       "    }\n",
       "</style>\n",
       "<table border=\"1\" class=\"dataframe\">\n",
       "  <thead>\n",
       "    <tr style=\"text-align: right;\">\n",
       "      <th></th>\n",
       "      <th>open</th>\n",
       "      <th>high</th>\n",
       "      <th>low</th>\n",
       "      <th>close</th>\n",
       "      <th>shares</th>\n",
       "      <th>volume</th>\n",
       "      <th>close_12_ema</th>\n",
       "      <th>close_26_ema</th>\n",
       "      <th>macd</th>\n",
       "      <th>macds</th>\n",
       "      <th>macdh</th>\n",
       "    </tr>\n",
       "    <tr>\n",
       "      <th>date</th>\n",
       "      <th></th>\n",
       "      <th></th>\n",
       "      <th></th>\n",
       "      <th></th>\n",
       "      <th></th>\n",
       "      <th></th>\n",
       "      <th></th>\n",
       "      <th></th>\n",
       "      <th></th>\n",
       "      <th></th>\n",
       "      <th></th>\n",
       "    </tr>\n",
       "  </thead>\n",
       "  <tbody>\n",
       "    <tr>\n",
       "      <th>2017-08-21</th>\n",
       "      <td>174.3375</td>\n",
       "      <td>175.6815</td>\n",
       "      <td>173.1374</td>\n",
       "      <td>174.0495</td>\n",
       "      <td>776936</td>\n",
       "      <td>135380672</td>\n",
       "      <td>174.049500</td>\n",
       "      <td>174.049500</td>\n",
       "      <td>0.000000</td>\n",
       "      <td>0.000000</td>\n",
       "      <td>0.000000</td>\n",
       "    </tr>\n",
       "    <tr>\n",
       "      <th>2017-08-22</th>\n",
       "      <td>175.2015</td>\n",
       "      <td>176.1615</td>\n",
       "      <td>174.8655</td>\n",
       "      <td>175.5855</td>\n",
       "      <td>714906</td>\n",
       "      <td>125526592</td>\n",
       "      <td>174.881500</td>\n",
       "      <td>174.847038</td>\n",
       "      <td>0.034462</td>\n",
       "      <td>0.019145</td>\n",
       "      <td>0.015316</td>\n",
       "    </tr>\n",
       "    <tr>\n",
       "      <th>2017-08-23</th>\n",
       "      <td>175.5375</td>\n",
       "      <td>176.0655</td>\n",
       "      <td>174.0014</td>\n",
       "      <td>174.3375</td>\n",
       "      <td>800080</td>\n",
       "      <td>139733784</td>\n",
       "      <td>174.669177</td>\n",
       "      <td>174.663966</td>\n",
       "      <td>0.005210</td>\n",
       "      <td>0.013434</td>\n",
       "      <td>-0.008224</td>\n",
       "    </tr>\n",
       "    <tr>\n",
       "      <th>2017-08-24</th>\n",
       "      <td>174.4815</td>\n",
       "      <td>176.5935</td>\n",
       "      <td>174.4815</td>\n",
       "      <td>175.4415</td>\n",
       "      <td>725802</td>\n",
       "      <td>127510400</td>\n",
       "      <td>174.912969</td>\n",
       "      <td>174.881331</td>\n",
       "      <td>0.031638</td>\n",
       "      <td>0.019601</td>\n",
       "      <td>0.012037</td>\n",
       "    </tr>\n",
       "    <tr>\n",
       "      <th>2017-08-25</th>\n",
       "      <td>175.3455</td>\n",
       "      <td>176.3535</td>\n",
       "      <td>174.8175</td>\n",
       "      <td>174.9135</td>\n",
       "      <td>673465</td>\n",
       "      <td>118082856</td>\n",
       "      <td>174.913113</td>\n",
       "      <td>174.888791</td>\n",
       "      <td>0.024322</td>\n",
       "      <td>0.021005</td>\n",
       "      <td>0.003317</td>\n",
       "    </tr>\n",
       "  </tbody>\n",
       "</table>\n",
       "</div>"
      ],
      "text/plain": [
       "                open      high       low     close  shares     volume  \\\n",
       "date                                                                    \n",
       "2017-08-21  174.3375  175.6815  173.1374  174.0495  776936  135380672   \n",
       "2017-08-22  175.2015  176.1615  174.8655  175.5855  714906  125526592   \n",
       "2017-08-23  175.5375  176.0655  174.0014  174.3375  800080  139733784   \n",
       "2017-08-24  174.4815  176.5935  174.4815  175.4415  725802  127510400   \n",
       "2017-08-25  175.3455  176.3535  174.8175  174.9135  673465  118082856   \n",
       "\n",
       "            close_12_ema  close_26_ema      macd     macds     macdh  \n",
       "date                                                                  \n",
       "2017-08-21    174.049500    174.049500  0.000000  0.000000  0.000000  \n",
       "2017-08-22    174.881500    174.847038  0.034462  0.019145  0.015316  \n",
       "2017-08-23    174.669177    174.663966  0.005210  0.013434 -0.008224  \n",
       "2017-08-24    174.912969    174.881331  0.031638  0.019601  0.012037  \n",
       "2017-08-25    174.913113    174.888791  0.024322  0.021005  0.003317  "
      ]
     },
     "execution_count": 6,
     "metadata": {},
     "output_type": "execute_result"
    }
   ],
   "source": [
    "stock.head()"
   ]
  },
  {
   "cell_type": "code",
   "execution_count": 7,
   "metadata": {},
   "outputs": [
    {
     "data": {
      "image/png": "[encoded data removed]",
      "text/plain": [
       "<Figure size 432x288 with 1 Axes>"
      ]
     },
     "metadata": {},
     "output_type": "display_data"
    }
   ],
   "source": [
    "# visualize MACD and MACD signal\n",
    "stock.reset_index(inplace=True)\n",
    "sns.lineplot(data=stock, x='date', y='macds', label='MACD Signal')\n",
    "sns.lineplot(data=stock, x='date', y='macd', label='MACD')\n",
    "l=stock.date.count()/12\n",
    "plt.xticks(stock.date[0::int(l)], rotation=45)\n",
    "plt.show()"
   ]
  },
  {
   "cell_type": "markdown",
   "metadata": {},
   "source": [
    "## Compute Buy/Sell Signals\n",
    "\n",
    "The buy/sell signals are the result when the MACD and the MACD-Signal cross each other.\n",
    "\n",
    "* MACD - Moving Average Convergence/Divergence\n",
    "* MACD Signal - EMA of MACD\n",
    "\n",
    "**BUY** Signal: $ MACD(t-1) < Signal(t-1) \\textrm{ and } MACD(t) > Signal(t) $ <br>\n",
    "**SELL** Signal: $ MACD(t-1) > Signal(t-1) \\textrm{ and } MACD(t) < Signal(t) $ <br>\n",
    "**HOLD** Signal: else\n",
    "\n",
    "**Note:** In the code below the variable are assigned \n",
    "\n",
    "* MACD -> macd\n",
    "* MACD Signal -> macds\n",
    "* BUY/SELL/HOLD -> signal\n"
   ]
  },
  {
   "cell_type": "code",
   "execution_count": 8,
   "metadata": {},
   "outputs": [],
   "source": [
    "macd.sort_index(ascending=True, inplace=True)\n",
    "macds.sort_index(ascending=True, inplace=True)\n",
    "\n",
    "signal = [\"No data\"]    # Since you need at least two days in the for loop\n",
    "\n",
    "for t in range(1, len(macds)):\n",
    "    #                          # If the MACD crosses the signal line upward\n",
    "    if macd[t - 1] < macds[t - 1] and macd[t] > macds[t]:\n",
    "        signal.append(\"BUY\")\n",
    "    #                          # The other way around\n",
    "    elif macd[t - 1] > macds[t - 1] and macd[t] < macds[t]:\n",
    "        signal.append(\"SELL\")\n",
    "    #                          # Do nothing if not crossed\n",
    "    else:\n",
    "        signal.append(\"HOLD\")"
   ]
  },
  {
   "cell_type": "markdown",
   "metadata": {},
   "source": [
    "Create dataframe from buy/sell/hold results. "
   ]
  },
  {
   "cell_type": "code",
   "execution_count": 9,
   "metadata": {},
   "outputs": [],
   "source": [
    "signal_arr = np.asarray(signal)\n",
    "signal_arr = signal_arr[0:len(signal_arr)]\n",
    "#d = {'macd': macd.values, 'macds': macds.values, 'signal': signal_arr}\n",
    "d = {'signal': signal_arr, 'signal_str': signal_arr}\n",
    "df = pd.DataFrame(data=d, index=macd.index)\n",
    "df.reset_index(inplace=True)\n",
    "stock = stock.join(df['signal_str'])\n",
    "stock = stock.join(df['signal'])"
   ]
  },
  {
   "cell_type": "markdown",
   "metadata": {},
   "source": [
    "Plot the MACD, MACD signal and the buy/sell/hold signals."
   ]
  },
  {
   "cell_type": "code",
   "execution_count": 10,
   "metadata": {},
   "outputs": [
    {
     "data": {
      "image/png": "[encoded data removed]",
      "text/plain": [
       "<Figure size 432x288 with 1 Axes>"
      ]
     },
     "metadata": {},
     "output_type": "display_data"
    }
   ],
   "source": [
    "df.reset_index(inplace=True)\n",
    "sns.lineplot(data=stock, x='date', y='macds', label='MACD Signal')\n",
    "sns.lineplot(data=stock, x='date', y='macd', label='MACD')\n",
    "\n",
    "stock['signal'] = stock['signal'].replace('BUY', 1).replace('SELL', -1).replace('HOLD', 0).replace('No data', 0)\n",
    "sns.lineplot(data=stock, x='date', y='signal', label='Buy/Sell Signal')\n",
    "\n",
    "l=stock.date.count()/12\n",
    "plt.xticks(stock.date[0::int(l)], rotation=45)\n",
    "plt.show()"
   ]
  },
  {
   "cell_type": "markdown",
   "metadata": {},
   "source": [
    "Some stats ..."
   ]
  },
  {
   "cell_type": "code",
   "execution_count": 11,
   "metadata": {},
   "outputs": [
    {
     "name": "stdout",
     "output_type": "stream",
     "text": [
      "BUY: 11\n",
      "SELL: 12\n",
      "HOLD: 229\n"
     ]
    }
   ],
   "source": [
    "BUY_cnt = stock[stock['signal']==1].shape[0]\n",
    "SELL_cnt = stock[stock['signal']==-1].shape[0]\n",
    "HOLD_cnt = stock[stock['signal']==0].shape[0]\n",
    "print(\"BUY: \" + str(BUY_cnt))\n",
    "print(\"SELL: \" + str(SELL_cnt))\n",
    "print(\"HOLD: \" + str(HOLD_cnt))"
   ]
  },
  {
   "cell_type": "code",
   "execution_count": null,
   "metadata": {},
   "outputs": [],
   "source": []
  },
  {
   "cell_type": "code",
   "execution_count": null,
   "metadata": {},
   "outputs": [],
   "source": []
  }
 ],
 "metadata": {
  "kernelspec": {
   "display_name": "Python 3",
   "language": "python",
   "name": "python3"
  },
  "language_info": {
   "codemirror_mode": {
    "name": "ipython",
    "version": 3
   },
   "file_extension": ".py",
   "mimetype": "text/x-python",
   "name": "python",
   "nbconvert_exporter": "python",
   "pygments_lexer": "ipython3",
   "version": "3.5.2"
  }
 },
 "nbformat": 4,
 "nbformat_minor": 2
}
