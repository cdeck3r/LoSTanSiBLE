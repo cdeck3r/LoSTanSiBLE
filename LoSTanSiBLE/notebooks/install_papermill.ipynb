{
 "cells": [
  {
   "cell_type": "markdown",
   "metadata": {},
   "source": [
    "# Install papermill module\n",
    "\n",
    "This jupyter notebook installs the papermill module into the system.\n",
    "It is necessary, because the installation into virtualenv does not work."
   ]
  },
  {
   "cell_type": "code",
   "execution_count": null,
   "metadata": {},
   "outputs": [],
   "source": [
    "# Install a pip module in the current Jupyter kernel\n",
    "import sys\n",
    "\n",
    "try:\n",
    "    import papermill as pm\n",
    "except ImportError as err:\n",
    "    print(\"Handling run-time error: \", err)\n",
    "    print(\"Will now install missing module.\")\n",
    "    !{sys.executable} -m pip install papermill"
   ]
  },
  {
   "cell_type": "code",
   "execution_count": null,
   "metadata": {},
   "outputs": [],
   "source": []
  }
 ],
 "metadata": {
  "kernelspec": {
   "display_name": "Python 3",
   "language": "python",
   "name": "python3"
  },
  "language_info": {
   "codemirror_mode": {
    "name": "ipython",
    "version": 3
   },
   "file_extension": ".py",
   "mimetype": "text/x-python",
   "name": "python",
   "nbconvert_exporter": "python",
   "pygments_lexer": "ipython3",
   "version": "3.5.2"
  }
 },
 "nbformat": 4,
 "nbformat_minor": 2
}
